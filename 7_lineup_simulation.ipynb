{
 "cells": [
  {
   "cell_type": "code",
   "execution_count": 5,
   "id": "0d54533f",
   "metadata": {},
   "outputs": [
    {
     "ename": "ModuleNotFoundError",
     "evalue": "No module named 'tensorflow'",
     "output_type": "error",
     "traceback": [
      "\u001b[0;31m---------------------------------------------------------------------------\u001b[0m",
      "\u001b[0;31mModuleNotFoundError\u001b[0m                       Traceback (most recent call last)",
      "\u001b[1;32m/home/andrea/Repository/fantapredict/7_lineup_simulation.ipynb Cell 1\u001b[0m line \u001b[0;36m4\n\u001b[1;32m      <a href='vscode-notebook-cell:/home/andrea/Repository/fantapredict/7_lineup_simulation.ipynb#W0sZmlsZQ%3D%3D?line=1'>2</a>\u001b[0m \u001b[39mimport\u001b[39;00m \u001b[39mnumpy\u001b[39;00m \u001b[39mas\u001b[39;00m \u001b[39mnp\u001b[39;00m\n\u001b[1;32m      <a href='vscode-notebook-cell:/home/andrea/Repository/fantapredict/7_lineup_simulation.ipynb#W0sZmlsZQ%3D%3D?line=2'>3</a>\u001b[0m \u001b[39mimport\u001b[39;00m \u001b[39mmatplotlib\u001b[39;00m\u001b[39m.\u001b[39;00m\u001b[39mpyplot\u001b[39;00m \u001b[39mas\u001b[39;00m \u001b[39mplt\u001b[39;00m\n\u001b[0;32m----> <a href='vscode-notebook-cell:/home/andrea/Repository/fantapredict/7_lineup_simulation.ipynb#W0sZmlsZQ%3D%3D?line=3'>4</a>\u001b[0m \u001b[39mimport\u001b[39;00m \u001b[39mtensorflow\u001b[39;00m \u001b[39mas\u001b[39;00m \u001b[39mtf\u001b[39;00m\n\u001b[1;32m      <a href='vscode-notebook-cell:/home/andrea/Repository/fantapredict/7_lineup_simulation.ipynb#W0sZmlsZQ%3D%3D?line=4'>5</a>\u001b[0m \u001b[39mfrom\u001b[39;00m \u001b[39mtensorflow\u001b[39;00m \u001b[39mimport\u001b[39;00m keras\n\u001b[1;32m      <a href='vscode-notebook-cell:/home/andrea/Repository/fantapredict/7_lineup_simulation.ipynb#W0sZmlsZQ%3D%3D?line=5'>6</a>\u001b[0m \u001b[39mfrom\u001b[39;00m \u001b[39mtensorflow\u001b[39;00m\u001b[39m.\u001b[39;00m\u001b[39mkeras\u001b[39;00m \u001b[39mimport\u001b[39;00m layers\n",
      "\u001b[0;31mModuleNotFoundError\u001b[0m: No module named 'tensorflow'"
     ]
    }
   ],
   "source": [
    "import pandas as pd\n",
    "import numpy as np\n",
    "import matplotlib.pyplot as plt\n",
    "import tensorflow as tf\n",
    "from tensorflow import keras\n",
    "from tensorflow.keras import layers\n",
    "import tensorflow_datasets as tfds\n",
    "import tensorflow_probability as tfp\n",
    "tfd = tfp.distributions"
   ]
  },
  {
   "cell_type": "code",
   "execution_count": null,
   "id": "d3654c88",
   "metadata": {},
   "outputs": [
    {
     "ename": "",
     "evalue": "",
     "output_type": "error",
     "traceback": [
      "\u001b[1;31mRunning cells with '/bin/python3' requires the ipykernel package.\n",
      "\u001b[1;31mRun the following command to install 'ipykernel' into the Python environment. \n",
      "\u001b[1;31mCommand: '/bin/python3 -m pip install ipykernel -U --user --force-reinstall'"
     ]
    }
   ],
   "source": [
    "file = 'outputs/pred_matchday_7.xlsx'"
   ]
  },
  {
   "cell_type": "code",
   "execution_count": null,
   "id": "f89d6b70",
   "metadata": {},
   "outputs": [
    {
     "ename": "",
     "evalue": "",
     "output_type": "error",
     "traceback": [
      "\u001b[1;31mRunning cells with '/bin/python3' requires the ipykernel package.\n",
      "\u001b[1;31mRun the following command to install 'ipykernel' into the Python environment. \n",
      "\u001b[1;31mCommand: '/bin/python3 -m pip install ipykernel -U --user --force-reinstall'"
     ]
    }
   ],
   "source": [
    "db = pd.read_excel(file, index_col = 0)   "
   ]
  },
  {
   "cell_type": "code",
   "execution_count": null,
   "id": "6f61a1fa",
   "metadata": {},
   "outputs": [
    {
     "ename": "",
     "evalue": "",
     "output_type": "error",
     "traceback": [
      "\u001b[1;31mRunning cells with '/bin/python3' requires the ipykernel package.\n",
      "\u001b[1;31mRun the following command to install 'ipykernel' into the Python environment. \n",
      "\u001b[1;31mCommand: '/bin/python3 -m pip install ipykernel -U --user --force-reinstall'"
     ]
    }
   ],
   "source": [
    "db"
   ]
  },
  {
   "cell_type": "code",
   "execution_count": null,
   "id": "aa1c6af5",
   "metadata": {},
   "outputs": [
    {
     "ename": "",
     "evalue": "",
     "output_type": "error",
     "traceback": [
      "\u001b[1;31mRunning cells with '/bin/python3' requires the ipykernel package.\n",
      "\u001b[1;31mRun the following command to install 'ipykernel' into the Python environment. \n",
      "\u001b[1;31mCommand: '/bin/python3 -m pip install ipykernel -U --user --force-reinstall'"
     ]
    }
   ],
   "source": [
    "def get_player_distributions(player): \n",
    "    dist_mv = tfp.distributions.SinhArcsinh(\n",
    "    db.loc[player, 'MV loc'],\n",
    "    db.loc[player, 'MV scale'],\n",
    "    db.loc[player, 'MV skewness'],\n",
    "    db.loc[player, 'MV tailweight']\n",
    "    )\n",
    "    \n",
    "    dist_fv = tfp.distributions.SinhArcsinh(\n",
    "    db.loc[player, 'FV loc'],\n",
    "    db.loc[player, 'FV scale'],\n",
    "    db.loc[player, 'FV skewness'],\n",
    "    db.loc[player, 'FV tailweight']\n",
    "    )\n",
    "    \n",
    "    dist_cs = tfp.distributions.Bernoulli(probs = db.loc[player, 'Clean Sheet %']/100)\n",
    "    \n",
    "    return [dist_mv, dist_fv, dist_cs];"
   ]
  },
  {
   "cell_type": "code",
   "execution_count": null,
   "id": "d8456c70",
   "metadata": {},
   "outputs": [
    {
     "ename": "",
     "evalue": "",
     "output_type": "error",
     "traceback": [
      "\u001b[1;31mRunning cells with '/bin/python3' requires the ipykernel package.\n",
      "\u001b[1;31mRun the following command to install 'ipykernel' into the Python environment. \n",
      "\u001b[1;31mCommand: '/bin/python3 -m pip install ipykernel -U --user --force-reinstall'"
     ]
    }
   ],
   "source": [
    "def simulate_lineup(squad, ITERS = 1000, MOD = False, CS = False, plot = True):\n",
    "    dist = [None] * len(squad)\n",
    "\n",
    "    defenders = list([0]) * len(squad)\n",
    "\n",
    "\n",
    "    for i in range(len(squad)):\n",
    "        dist[i] = get_player_distributions(squad[i])  \n",
    "\n",
    "        if(db['role'][squad[i]] == 'D'):\n",
    "            defenders[i] = 1\n",
    "            \n",
    "    total_points = np.zeros(ITERS)\n",
    "    clean_sheets = np.zeros(ITERS)\n",
    "    mod_points = np.zeros(ITERS)\n",
    "\n",
    "    mv_samples = [None] * len(squad)\n",
    "    fv_samples = [None] * len(squad)\n",
    "\n",
    "    for i in range(len(squad)):\n",
    "        mv_samples[i] = dist[i][0].sample(ITERS)\n",
    "        fv_samples[i] = dist[i][1].sample(ITERS)\n",
    "\n",
    "    cs_samples = dist[0][2].sample(ITERS)\n",
    "\n",
    "    for k in range(ITERS):\n",
    "        d_points = list([0]) * len(squad)\n",
    "\n",
    "        cleansheet = float(cs_samples[k])\n",
    "        if(not CS):\n",
    "            cleansheet = 0;\n",
    "            \n",
    "        total_points[k] += cleansheet\n",
    "        clean_sheets[k] += cleansheet\n",
    "\n",
    "        for i in range(len(squad)):      \n",
    "            if(defenders[i] == 1):\n",
    "                d_points[i] = float(mv_samples[i][k])\n",
    "\n",
    "            total_points[k] += float(fv_samples[i][k])\n",
    "\n",
    "        d_points.sort(reverse = True)\n",
    "\n",
    "        if(MOD and d_points[3] > 0): # minimum 3 defenders to get MOD\n",
    "            mod_avg = 0\n",
    "            for j in range(3):\n",
    "                mod_avg += round(d_points[j] * 2) / 2\n",
    "            mod_avg /= 3\n",
    "\n",
    "            if(mod_avg >= 7):\n",
    "                mod_points[k] = 6\n",
    "            elif(mod_avg >= 6.5):\n",
    "                mod_points[k] = 3\n",
    "            elif(mod_avg >= 6):\n",
    "                mod_points[k] = 1\n",
    "\n",
    "        total_points[k] += mod_points[k]\n",
    "    \n",
    "    loc_0 = total_points.mean()\n",
    "\n",
    "    squad_model = tf.keras.Sequential(\n",
    "        [\n",
    "            tf.keras.layers.Dense(3),\n",
    "            tfp.layers.DistributionLambda(\n",
    "                lambda t: tfp.distributions.SinhArcsinh(loc= loc_0 + t[..., 0], scale = 1e-3 + tf.math.softplus(t[..., 1]), \n",
    "                                                        skewness = t[..., 2], tailweight = 0.8) # fixed tailweight seems ok\n",
    "            )\n",
    "        ]\n",
    "    )\n",
    "\n",
    "    def negloglik(y, distr):\n",
    "        return -distr.log_prob(y)\n",
    "\n",
    "    squad_model.compile(optimizer=tf.optimizers.Adam(learning_rate=1), loss=negloglik)\n",
    "\n",
    "    dummy_input = np.zeros(total_points.shape)[:, np.newaxis]\n",
    "    squad_model.fit(dummy_input, total_points, epochs=100, verbose=False)\n",
    "    \n",
    "    squad_points_dist = squad_model(np.zeros(1)[:, np.newaxis])\n",
    "\n",
    "    if(plot):\n",
    "\n",
    "        x = np.arange(start = 0, stop = 200, step = 0.001)\n",
    "        prb = squad_points_dist.prob(x)\n",
    "\n",
    "        mn = total_points.mean()\n",
    "        pot = mn + 2 * total_points.std()\n",
    "\n",
    "        f, ax = plt.subplots(1, 2)\n",
    "\n",
    "        ax[0].plot(x, prb)\n",
    "        ax[0].fill_between(x, prb, color = 'lightblue')\n",
    "        ax[0].vlines(x = mn, color = 'black', ymin = 0, ymax = 3, linestyle = 'dashed', label = 'mean = ' + \"{:.2f}\".format(mn))\n",
    "        ax[0].vlines(x = pot, color = 'grey', ymin = 0, ymax = 3, linestyle = 'dashed', label = 'potential = ' + \"{:.2f}\".format(pot))\n",
    "\n",
    "        \n",
    "        ax[0].set_xlim([40, 140])\n",
    "        ax[0].set_ylim([0, 0.12])\n",
    "\n",
    "        ax[0].legend()\n",
    "\n",
    "        #ax[0].hist(total_points, bins = 20, density = True)\n",
    "\n",
    "\n",
    "        ax[1].text(0.1, 0.8, \"\\n\".join(squad), fontsize=10, transform=ax[1].transAxes, verticalalignment = 'top')\n",
    "\n",
    "        text = \"\\n\".join(['Avg Total Points = ' + \"{:.2f}\".format(total_points.mean()), \n",
    "                          'Avg Mod Points = ' + \"{:.2f}\".format(mod_points.mean()), \n",
    "                          'Avg Clean Sheets = ' + \"{:.2f}\".format(clean_sheets.mean())])\n",
    "\n",
    "        ax[1].text(0.5, 0.8, text, fontsize=10, transform=ax[1].transAxes, verticalalignment = 'top')\n",
    "\n",
    "        ax[1].axis('off')\n",
    "\n",
    "\n",
    "\n",
    "        plt.subplots_adjust(right=1.5)\n",
    "\n",
    "        plt.show()\n",
    "    return [squad_model, squad_points_dist, total_points.mean(), mod_points.mean(), clean_sheets.mean()]"
   ]
  },
  {
   "cell_type": "code",
   "execution_count": null,
   "id": "852ef39e",
   "metadata": {},
   "outputs": [
    {
     "ename": "",
     "evalue": "",
     "output_type": "error",
     "traceback": [
      "\u001b[1;31mRunning cells with '/bin/python3' requires the ipykernel package.\n",
      "\u001b[1;31mRun the following command to install 'ipykernel' into the Python environment. \n",
      "\u001b[1;31mCommand: '/bin/python3 -m pip install ipykernel -U --user --force-reinstall'"
     ]
    }
   ],
   "source": [
    "def sinh_archsinh_pdf(x, mu, sigma, eps, delta):\n",
    "    mul = 2 / np.sinh( np.arcsinh(2) * delta)    \n",
    "    z = (x - mu) / (sigma*mul)            \n",
    "    S = np.sinh( -eps + (1/delta) * np.arcsinh(z))\n",
    "    return np.exp(-0.5 * S * S) * np.sqrt(1 + S * S) / ( sigma * mul * delta ) / np.sqrt(1 + z * z) / np.sqrt(2 * np.pi)\n",
    "\n",
    "def plot_lineup(squad, config):\n",
    "    fig, axs = plt.subplots(6, 5, figsize=(14, 10))\n",
    "\n",
    "    i = 0;\n",
    "    j = 1;\n",
    "\n",
    "    for ax in axs.flat:\n",
    "        ax.axis('off')\n",
    "\n",
    "        if(i < len(config) and config[i] == j):\n",
    "            player = squad[i];\n",
    "\n",
    "            mu = db.loc[player, 'FV loc'];\n",
    "            sigma = db.loc[player, 'FV scale'];\n",
    "            eps = db.loc[player, 'FV skewness'];\n",
    "            delta = db.loc[player, 'FV tailweight'];\n",
    "\n",
    "            x = np.arange(start = 0, stop = 30, step = 0.001)\n",
    "\n",
    "            pxf = sinh_archsinh_pdf(x, mu, sigma, eps, delta)\n",
    "\n",
    "            mf = np.average(x, weights = pxf);\n",
    "\n",
    "\n",
    "            ax.plot(x, pxf, color = 'g', label = player)\n",
    "            ax.fill_between(x, pxf, color = 'lightgreen')\n",
    "\n",
    "            ax.vlines(x = mf, color = 'g', ymin = 0, ymax = 3, linestyle = 'dashed', label = 'mfv = ' + '{:.2f}'.format(mf))    \n",
    "\n",
    "            ax.legend(fontsize=\"9\", loc =\"upper right\", handletextpad=0, handlelength=0)\n",
    "\n",
    "            ax.axis(xmin = 0, xmax = 15, ymin = 0, ymax = 1)\n",
    "\n",
    "            ax.axis('on')\n",
    "            ax.get_yaxis().set_visible(False)\n",
    "\n",
    "            ax.tick_params(axis='both', labelsize=7)\n",
    "\n",
    "            i = i + 1;\n",
    "\n",
    "        j = j + 1;\n",
    "    \n"
   ]
  },
  {
   "cell_type": "code",
   "execution_count": null,
   "id": "dda9acb8",
   "metadata": {},
   "outputs": [
    {
     "ename": "",
     "evalue": "",
     "output_type": "error",
     "traceback": [
      "\u001b[1;31mRunning cells with '/bin/python3' requires the ipykernel package.\n",
      "\u001b[1;31mRun the following command to install 'ipykernel' into the Python environment. \n",
      "\u001b[1;31mCommand: '/bin/python3 -m pip install ipykernel -U --user --force-reinstall'"
     ]
    }
   ],
   "source": [
    "config_442 = [3, 6, 7, 9, 10, 15, 17, 19, 21, 27, 29];\n",
    "config_433 = [3, 6, 7, 9, 10, 13, 17, 19, 26, 28, 30];\n",
    "config_343 = [3, 7, 8, 9, 11, 15, 17, 19, 26, 28, 30];\n",
    "config_4231 = [3, 6, 7, 9, 10, 12, 19, 23, 25, 26, 28];\n",
    "config_433_classic = [3, 6, 7, 9, 10, 17, 18, 19, 26, 28, 30];\n",
    "config_343_classic = [3, 7, 8, 9, 16, 17, 19, 20, 26, 28, 30];"
   ]
  },
  {
   "cell_type": "code",
   "execution_count": null,
   "id": "beea77cf",
   "metadata": {},
   "outputs": [
    {
     "ename": "",
     "evalue": "",
     "output_type": "error",
     "traceback": [
      "\u001b[1;31mRunning cells with '/bin/python3' requires the ipykernel package.\n",
      "\u001b[1;31mRun the following command to install 'ipykernel' into the Python environment. \n",
      "\u001b[1;31mCommand: '/bin/python3 -m pip install ipykernel -U --user --force-reinstall'"
     ]
    }
   ],
   "source": [
    "squad = ['Musso',\n",
    "        'Zappacosta',\n",
    "        'Pavard',\n",
    "        'Carlos Augusto',\n",
    "        'Lazaro',\n",
    "        'Radonjic',\n",
    "        'Barella',\n",
    "        'Zielinski',\n",
    "        'Lauriente\\'',\n",
    "        'Rafael Leao',\n",
    "        'Lookman']\n",
    "\n",
    "s = simulate_lineup(squad, MOD = True, CS = True)\n",
    "\n",
    "plot_lineup(squad, config_433_classic)"
   ]
  },
  {
   "cell_type": "code",
   "execution_count": null,
   "id": "fc4be108",
   "metadata": {},
   "outputs": [
    {
     "ename": "",
     "evalue": "",
     "output_type": "error",
     "traceback": [
      "\u001b[1;31mRunning cells with '/bin/python3' requires the ipykernel package.\n",
      "\u001b[1;31mRun the following command to install 'ipykernel' into the Python environment. \n",
      "\u001b[1;31mCommand: '/bin/python3 -m pip install ipykernel -U --user --force-reinstall'"
     ]
    }
   ],
   "source": [
    "squad = ['Szczesny',\n",
    "        'Di Lorenzo',\n",
    "        'Rrahmani',\n",
    "        'Bastoni',\n",
    "        'Kristiansen',\n",
    "        'Kostic',\n",
    "        'Pellegrini Lo.',\n",
    "        'Barella',\n",
    "        'Strefezza',\n",
    "        'Rafael Leao',\n",
    "        'Osimhen']\n",
    "\n",
    "s = simulate_lineup(squad)\n",
    "\n",
    "plot_lineup(squad, config_442)"
   ]
  }
 ],
 "metadata": {
  "kernelspec": {
   "display_name": "Python 3 (ipykernel)",
   "language": "python",
   "name": "python3"
  },
  "language_info": {
   "codemirror_mode": {
    "name": "ipython",
    "version": 3
   },
   "file_extension": ".py",
   "mimetype": "text/x-python",
   "name": "python",
   "nbconvert_exporter": "python",
   "pygments_lexer": "ipython3",
   "version": "3.12.0"
  }
 },
 "nbformat": 4,
 "nbformat_minor": 5
}
